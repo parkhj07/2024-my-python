{
 "cells": [
  {
   "metadata": {},
   "cell_type": "markdown",
   "source": "# Code 4-13",
   "id": "b9816e2f9b1040d2"
  },
  {
   "cell_type": "code",
   "id": "initial_id",
   "metadata": {
    "collapsed": true,
    "jupyter": {
     "is_executing": true
    }
   },
   "source": [
    "import random as rd\n",
    "\n",
    "winNumber = 1, 17, 28, 30, 33, 35\n",
    "print(' 모의로또 당첨번호 '.center(28, '='))\n",
    "print(winNumber)\n",
    "print()\n",
    "print(' 내 번호 확인 '.center(30, '-'))\n",
    "cnt = 0\n",
    "\n",
    "for i in range(6):\n",
    "    n = rd.randint(1, 45)\n",
    "    if n in winNumber:\n",
    "        print(n, 'O ', end=' ')\n",
    "        cnt += 1\n",
    "    else:\n",
    "        print(n, 'X ', end=' ')\n",
    "        \n",
    "print()\n",
    "print(cnt, '개 맞음')"
   ],
   "outputs": [],
   "execution_count": null
  },
  {
   "metadata": {},
   "cell_type": "markdown",
   "source": "# Code 4-14",
   "id": "56354ce9d0188270"
  },
  {
   "metadata": {
    "ExecuteTime": {
     "end_time": "2024-04-13T07:30:25.768441Z",
     "start_time": "2024-04-13T07:30:24.786869Z"
    }
   },
   "cell_type": "code",
   "source": [
    "while True:\n",
    "    menu = input(\"[0]종료 [1]계속 ? \")\n",
    "    if menu == '0':\n",
    "        break\n",
    "print(\"종료\")"
   ],
   "id": "d5959993981049b9",
   "outputs": [
    {
     "name": "stdout",
     "output_type": "stream",
     "text": [
      "종료\n"
     ]
    }
   ],
   "execution_count": 14
  },
  {
   "metadata": {},
   "cell_type": "markdown",
   "source": "# Code 4-15",
   "id": "827503affaf55faa"
  },
  {
   "metadata": {
    "ExecuteTime": {
     "end_time": "2024-04-13T07:33:19.063672Z",
     "start_time": "2024-04-13T07:33:19.049365Z"
    }
   },
   "cell_type": "code",
   "source": [
    "import random as rd\n",
    "LUCKY = 7\n",
    "\n",
    "while True:\n",
    "    n = rd.randint(1, 9)\n",
    "    if n == LUCKY:\n",
    "        print(f\"드디어 {n}, 종료!\")\n",
    "        break\n",
    "    else:\n",
    "        print(f\"{n}, {LUCKY} 나올 때까지 계속!\")\n",
    "else:\n",
    "    print(\"여기는 실행되지 않습니다\")"
   ],
   "id": "8f695a8d297fa7bc",
   "outputs": [
    {
     "name": "stdout",
     "output_type": "stream",
     "text": [
      "6, 7 나올 때까지 계속!\n",
      "9, 7 나올 때까지 계속!\n",
      "3, 7 나올 때까지 계속!\n",
      "9, 7 나올 때까지 계속!\n",
      "8, 7 나올 때까지 계속!\n",
      "9, 7 나올 때까지 계속!\n",
      "5, 7 나올 때까지 계속!\n",
      "5, 7 나올 때까지 계속!\n",
      "6, 7 나올 때까지 계속!\n",
      "1, 7 나올 때까지 계속!\n",
      "2, 7 나올 때까지 계속!\n",
      "9, 7 나올 때까지 계속!\n",
      "6, 7 나올 때까지 계속!\n",
      "2, 7 나올 때까지 계속!\n",
      "드디어 7, 종료!\n"
     ]
    }
   ],
   "execution_count": 28
  },
  {
   "metadata": {},
   "cell_type": "markdown",
   "source": "# Code 4-16",
   "id": "f3d6273705569e74"
  },
  {
   "metadata": {
    "ExecuteTime": {
     "end_time": "2024-04-13T07:35:49.973299Z",
     "start_time": "2024-04-13T07:35:47.486607Z"
    }
   },
   "cell_type": "code",
   "source": [
    "days = [\"monday\", \"tuesday\", \"wednesday\"]\n",
    "\n",
    "while True:\n",
    "    user = input(\"월, 화, 수 중 하나 영어단어 입력 >>\")\n",
    "    if user not in days:\n",
    "        print(\"잘못 입력했어요!\")\n",
    "        continue\n",
    "    print(f\"입력: {user}, 철자가 맞습니다.\")\n",
    "    break\n",
    "\n",
    "print(\" 종료 \".center(15, \"*\"))"
   ],
   "id": "f3bc677f6146d2d4",
   "outputs": [
    {
     "name": "stdout",
     "output_type": "stream",
     "text": [
      "입력: monday, 철자가 맞습니다.\n",
      "****** 종료 *****\n"
     ]
    }
   ],
   "execution_count": 30
  },
  {
   "metadata": {},
   "cell_type": "markdown",
   "source": "",
   "id": "df01ac24ed714aa8"
  },
  {
   "metadata": {},
   "cell_type": "markdown",
   "source": "# 학습내용점검",
   "id": "30bdd570dbd2f84e"
  },
  {
   "metadata": {},
   "cell_type": "markdown",
   "source": "### 06-1",
   "id": "a7589ae291b4b058"
  },
  {
   "metadata": {
    "ExecuteTime": {
     "end_time": "2024-04-13T07:44:31.398099Z",
     "start_time": "2024-04-13T07:44:31.394212Z"
    }
   },
   "cell_type": "code",
   "source": [
    "for n in range(10):\n",
    "    if n % 3 == 0:\n",
    "        print(n, end=\" \")\n",
    "print()"
   ],
   "id": "35b3c931757303d6",
   "outputs": [
    {
     "name": "stdout",
     "output_type": "stream",
     "text": [
      "0 3 6 9 \n"
     ]
    }
   ],
   "execution_count": 36
  },
  {
   "metadata": {},
   "cell_type": "markdown",
   "source": "### 06-2",
   "id": "9ebdfd318284f4b4"
  },
  {
   "metadata": {
    "ExecuteTime": {
     "end_time": "2024-04-13T08:28:21.746250Z",
     "start_time": "2024-04-13T08:28:21.731615Z"
    }
   },
   "cell_type": "code",
   "source": [
    "for n in range(10, 20):\n",
    "    if n % 4 == 0:\n",
    "        print(n, end=\" \")\n",
    "print()"
   ],
   "id": "476f09a7256a0639",
   "outputs": [
    {
     "name": "stdout",
     "output_type": "stream",
     "text": [
      "12 16 \n"
     ]
    }
   ],
   "execution_count": 1
  },
  {
   "metadata": {},
   "cell_type": "code",
   "outputs": [],
   "execution_count": null,
   "source": "",
   "id": "e34cc4950d15ac24"
  }
 ],
 "metadata": {
  "kernelspec": {
   "display_name": "Python 3",
   "language": "python",
   "name": "python3"
  },
  "language_info": {
   "codemirror_mode": {
    "name": "ipython",
    "version": 2
   },
   "file_extension": ".py",
   "mimetype": "text/x-python",
   "name": "python",
   "nbconvert_exporter": "python",
   "pygments_lexer": "ipython2",
   "version": "2.7.6"
  }
 },
 "nbformat": 4,
 "nbformat_minor": 5
}
