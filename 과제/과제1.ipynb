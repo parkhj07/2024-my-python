{
 "cells": [
  {
   "metadata": {},
   "cell_type": "markdown",
   "source": "# 20244159 박효진",
   "id": "1f23ff9a5e8b32b6"
  },
  {
   "metadata": {},
   "cell_type": "markdown",
   "source": [
    "## 2-01 코딩\n",
    "### 20244159 박효진"
   ],
   "id": "4d9d0ffc98eef9ce"
  },
  {
   "cell_type": "code",
   "id": "initial_id",
   "metadata": {
    "collapsed": true,
    "ExecuteTime": {
     "end_time": "2024-04-06T08:40:32.884043Z",
     "start_time": "2024-04-06T08:40:32.874717Z"
    }
   },
   "source": "print(\"원의 원주율 \" + '3.141592')",
   "outputs": [
    {
     "name": "stdout",
     "output_type": "stream",
     "text": [
      "원의 원주율 3.141592\n"
     ]
    }
   ],
   "execution_count": 1
  },
  {
   "metadata": {
    "ExecuteTime": {
     "end_time": "2024-04-06T08:40:32.944225Z",
     "start_time": "2024-04-06T08:40:32.930936Z"
    }
   },
   "cell_type": "code",
   "source": "print(\"python \" 'programming ' + 'language')",
   "id": "6b9b8c18376083ea",
   "outputs": [
    {
     "name": "stdout",
     "output_type": "stream",
     "text": [
      "python programming language\n"
     ]
    }
   ],
   "execution_count": 2
  },
  {
   "metadata": {
    "ExecuteTime": {
     "end_time": "2024-04-06T08:40:32.951533Z",
     "start_time": "2024-04-06T08:40:32.944225Z"
    }
   },
   "cell_type": "code",
   "source": "print('파이썬 언어는' + \" 강력하다\")",
   "id": "47fbfe7aca3bda1d",
   "outputs": [
    {
     "name": "stdout",
     "output_type": "stream",
     "text": [
      "파이썬 언어는 강력하다\n"
     ]
    }
   ],
   "execution_count": 3
  },
  {
   "metadata": {
    "ExecuteTime": {
     "end_time": "2024-04-06T08:40:32.955559Z",
     "start_time": "2024-04-06T08:40:32.951533Z"
    }
   },
   "cell_type": "code",
   "source": "print('파이썬 ' + \"언어! \" + 3 * \"방가 \")",
   "id": "5db1455007b20026",
   "outputs": [
    {
     "name": "stdout",
     "output_type": "stream",
     "text": [
      "파이썬 언어! 방가 방가 방가 \n"
     ]
    }
   ],
   "execution_count": 4
  },
  {
   "metadata": {},
   "cell_type": "markdown",
   "source": [
    "## 2-03 코딩\n",
    "### 20244159 박효진"
   ],
   "id": "721fb6ec7698a7ff"
  },
  {
   "metadata": {
    "ExecuteTime": {
     "end_time": "2024-04-06T08:40:32.958440Z",
     "start_time": "2024-04-06T08:40:32.955559Z"
    }
   },
   "cell_type": "code",
   "source": "print(4 ** (1/2))",
   "id": "7258e8b9d0303b2a",
   "outputs": [
    {
     "name": "stdout",
     "output_type": "stream",
     "text": [
      "2.0\n"
     ]
    }
   ],
   "execution_count": 5
  },
  {
   "metadata": {
    "ExecuteTime": {
     "end_time": "2024-04-06T08:40:32.984406Z",
     "start_time": "2024-04-06T08:40:32.974179Z"
    }
   },
   "cell_type": "code",
   "source": "print(((3**2 + 4**2)) ** (1/2))",
   "id": "bcfa5dea876b1a5d",
   "outputs": [
    {
     "name": "stdout",
     "output_type": "stream",
     "text": [
      "5.0\n"
     ]
    }
   ],
   "execution_count": 6
  },
  {
   "metadata": {
    "ExecuteTime": {
     "end_time": "2024-04-06T08:40:33.001622Z",
     "start_time": "2024-04-06T08:40:32.984406Z"
    }
   },
   "cell_type": "code",
   "source": "print(((2-3.1)**2 + (5-4.8)**2)**(1/2))",
   "id": "9f52b8237f70787c",
   "outputs": [
    {
     "name": "stdout",
     "output_type": "stream",
     "text": [
      "1.118033988749895\n"
     ]
    }
   ],
   "execution_count": 7
  },
  {
   "metadata": {},
   "cell_type": "markdown",
   "source": [
    "## 2-05 코딩\n",
    "### 20244159 박효진"
   ],
   "id": "c56f7d9538a1ee5c"
  },
  {
   "metadata": {
    "ExecuteTime": {
     "end_time": "2024-04-06T08:40:33.032349Z",
     "start_time": "2024-04-06T08:40:33.017354Z"
    }
   },
   "cell_type": "code",
   "source": "1000000 + (1000000 * 2.3/100)",
   "id": "a27f016a2ef6834",
   "outputs": [
    {
     "data": {
      "text/plain": [
       "1023000.0"
      ]
     },
     "execution_count": 8,
     "metadata": {},
     "output_type": "execute_result"
    }
   ],
   "execution_count": 8
  },
  {
   "metadata": {
    "ExecuteTime": {
     "end_time": "2024-04-06T08:40:33.042395Z",
     "start_time": "2024-04-06T08:40:33.032349Z"
    }
   },
   "cell_type": "code",
   "source": "1000000 + (1000000 * 2.3/100) + (1000000 * 2.3/100)",
   "id": "4020e0807231deb2",
   "outputs": [
    {
     "data": {
      "text/plain": [
       "1046000.0"
      ]
     },
     "execution_count": 9,
     "metadata": {},
     "output_type": "execute_result"
    }
   ],
   "execution_count": 9
  },
  {
   "metadata": {
    "ExecuteTime": {
     "end_time": "2024-04-06T08:40:33.046626Z",
     "start_time": "2024-04-06T08:40:33.042395Z"
    }
   },
   "cell_type": "code",
   "source": "1000000 * (1 + 2.3/100 * 3)",
   "id": "d96e57a18b1822aa",
   "outputs": [
    {
     "data": {
      "text/plain": [
       "1069000.0"
      ]
     },
     "execution_count": 10,
     "metadata": {},
     "output_type": "execute_result"
    }
   ],
   "execution_count": 10
  },
  {
   "metadata": {
    "ExecuteTime": {
     "end_time": "2024-04-06T08:40:33.063311Z",
     "start_time": "2024-04-06T08:40:33.046626Z"
    }
   },
   "cell_type": "code",
   "source": "1000000 * (1 + 2.3/100 * 4)",
   "id": "439fd5420e53560e",
   "outputs": [
    {
     "data": {
      "text/plain": [
       "1092000.0"
      ]
     },
     "execution_count": 11,
     "metadata": {},
     "output_type": "execute_result"
    }
   ],
   "execution_count": 11
  },
  {
   "metadata": {
    "ExecuteTime": {
     "end_time": "2024-04-06T08:40:33.075052Z",
     "start_time": "2024-04-06T08:40:33.063311Z"
    }
   },
   "cell_type": "code",
   "source": "1000000 * (1 + 2.3/100 * 5)",
   "id": "93e024a91e430f9c",
   "outputs": [
    {
     "data": {
      "text/plain": [
       "1115000.0"
      ]
     },
     "execution_count": 12,
     "metadata": {},
     "output_type": "execute_result"
    }
   ],
   "execution_count": 12
  },
  {
   "metadata": {
    "ExecuteTime": {
     "end_time": "2024-04-06T08:40:33.084608Z",
     "start_time": "2024-04-06T08:40:33.075052Z"
    }
   },
   "cell_type": "code",
   "source": "1000000 * (1 + 2.3/100) ** 5",
   "id": "796bdd55bdf3f378",
   "outputs": [
    {
     "data": {
      "text/plain": [
       "1120413.0756413424"
      ]
     },
     "execution_count": 13,
     "metadata": {},
     "output_type": "execute_result"
    }
   ],
   "execution_count": 13
  },
  {
   "metadata": {},
   "cell_type": "markdown",
   "source": [
    "## 2-07 코딩\n",
    "### 20244159 박효진"
   ],
   "id": "c988eadbb03758df"
  },
  {
   "metadata": {
    "ExecuteTime": {
     "end_time": "2024-04-06T08:40:33.092139Z",
     "start_time": "2024-04-06T08:40:33.084608Z"
    }
   },
   "cell_type": "code",
   "source": [
    "value = 10\n",
    "Value = 200"
   ],
   "id": "8aff33347bcef8ac",
   "outputs": [],
   "execution_count": 14
  },
  {
   "metadata": {
    "ExecuteTime": {
     "end_time": "2024-04-06T08:40:33.120025Z",
     "start_time": "2024-04-06T08:40:33.107885Z"
    }
   },
   "cell_type": "code",
   "source": "value",
   "id": "6e9b56e9242c5cc8",
   "outputs": [
    {
     "data": {
      "text/plain": [
       "10"
      ]
     },
     "execution_count": 15,
     "metadata": {},
     "output_type": "execute_result"
    }
   ],
   "execution_count": 15
  },
  {
   "metadata": {
    "ExecuteTime": {
     "end_time": "2024-04-06T08:40:33.129795Z",
     "start_time": "2024-04-06T08:40:33.120025Z"
    }
   },
   "cell_type": "code",
   "source": "Value",
   "id": "8dc4ef63af5f1657",
   "outputs": [
    {
     "data": {
      "text/plain": [
       "200"
      ]
     },
     "execution_count": 16,
     "metadata": {},
     "output_type": "execute_result"
    }
   ],
   "execution_count": 16
  },
  {
   "metadata": {
    "ExecuteTime": {
     "end_time": "2024-04-06T08:40:33.141752Z",
     "start_time": "2024-04-06T08:40:33.129795Z"
    }
   },
   "cell_type": "code",
   "source": [
    "total_price = 100000\n",
    "coffeePrice = 4500"
   ],
   "id": "b9ede4b72af6140e",
   "outputs": [],
   "execution_count": 17
  },
  {
   "metadata": {
    "ExecuteTime": {
     "end_time": "2024-04-06T08:40:33.156077Z",
     "start_time": "2024-04-06T08:40:33.141752Z"
    }
   },
   "cell_type": "code",
   "source": [
    "_month = 11\n",
    "# 2020year = 2020 # error! (SyntaxError: invalid syntax)"
   ],
   "id": "4a859820ebe79ee1",
   "outputs": [],
   "execution_count": 18
  },
  {
   "metadata": {},
   "cell_type": "markdown",
   "source": [
    "## 2-09 코딩\n",
    "### 20244159 박효진"
   ],
   "id": "5f6690d990caf2da"
  },
  {
   "metadata": {
    "ExecuteTime": {
     "end_time": "2024-04-06T08:40:33.175740Z",
     "start_time": "2024-04-06T08:40:33.171808Z"
    }
   },
   "cell_type": "code",
   "source": [
    "price = 56000\n",
    "sale = 20\n",
    "salePrice = price * (100 - sale) / 100\n",
    "print(salePrice)"
   ],
   "id": "c413bc891f7e060f",
   "outputs": [
    {
     "name": "stdout",
     "output_type": "stream",
     "text": [
      "44800.0\n"
     ]
    }
   ],
   "execution_count": 19
  },
  {
   "metadata": {},
   "cell_type": "markdown",
   "source": [
    "## 2-11 코딩\n",
    "### 20244159 박효진"
   ],
   "id": "77912ff5ab753bcb"
  },
  {
   "metadata": {
    "ExecuteTime": {
     "end_time": "2024-04-06T08:40:40.461411Z",
     "start_time": "2024-04-06T08:40:33.175740Z"
    }
   },
   "cell_type": "code",
   "source": [
    "univ = input('대학은? ')\n",
    "name = input('이름은? ')\n",
    "print('대학:', univ, '이름:', name)"
   ],
   "id": "3903711d5a2345be",
   "outputs": [
    {
     "name": "stdout",
     "output_type": "stream",
     "text": [
      "대학: 파이대 이름: 김파이\n"
     ]
    }
   ],
   "execution_count": 20
  },
  {
   "metadata": {},
   "cell_type": "markdown",
   "source": [
    "## 2-13 코딩\n",
    "### 20244159 박효진"
   ],
   "id": "7098a6aa686ad557"
  },
  {
   "metadata": {
    "ExecuteTime": {
     "end_time": "2024-04-06T08:40:45.353132Z",
     "start_time": "2024-04-06T08:40:40.461411Z"
    }
   },
   "cell_type": "code",
   "source": [
    "age = input('나이는? ')\n",
    "print('실제 나이는', int(age) + 1)"
   ],
   "id": "92624d12c8d88f1c",
   "outputs": [
    {
     "name": "stdout",
     "output_type": "stream",
     "text": [
      "실제 나이는 21\n"
     ]
    }
   ],
   "execution_count": 21
  },
  {
   "metadata": {},
   "cell_type": "markdown",
   "source": [
    "## 2-15 코딩\n",
    "### 20244159 박효진"
   ],
   "id": "910eeec0d4d0df8a"
  },
  {
   "metadata": {
    "ExecuteTime": {
     "end_time": "2024-04-06T08:41:06.206481Z",
     "start_time": "2024-04-06T08:40:45.353132Z"
    }
   },
   "cell_type": "code",
   "source": [
    "data = int(input('정수 입력 >> '))\n",
    "\n",
    "print('2진수:', bin(data))\n",
    "print('8진수:', oct(data))\n",
    "print('10진수:', data)\n",
    "print('16진수:', hex(data))"
   ],
   "id": "df95b3866a4b2216",
   "outputs": [
    {
     "name": "stdout",
     "output_type": "stream",
     "text": [
      "2진수: 0b10110\n",
      "8진수: 0o26\n",
      "10진수: 22\n",
      "16진수: 0x16\n"
     ]
    }
   ],
   "execution_count": 22
  },
  {
   "metadata": {},
   "cell_type": "markdown",
   "source": [
    "## 프로젝트 Lab 1 코딩\n",
    "### 20244159 박효진"
   ],
   "id": "6204bf8cc0e2b5df"
  },
  {
   "metadata": {
    "ExecuteTime": {
     "end_time": "2024-04-06T08:41:21.577480Z",
     "start_time": "2024-04-06T08:41:06.206481Z"
    }
   },
   "cell_type": "code",
   "source": [
    "num1 = float(input(\"첫 번째 수를 입력하세요 : \"))\n",
    "num2 = float(input(\"두 번째 수를 입력하세요 : \"))\n",
    "\n",
    "print(\"합:\", num1 + num2)\n",
    "print(\"차:\", num1 - num2)\n",
    "print(\"곱하기:\", num1 * num2)\n",
    "print(\"나누기:\", num1 / num2)"
   ],
   "id": "a5da01bae365b2c9",
   "outputs": [
    {
     "name": "stdout",
     "output_type": "stream",
     "text": [
      "합: 12.5\n",
      "차: 7.5\n",
      "곱하기: 25.0\n",
      "나누기: 4.0\n"
     ]
    }
   ],
   "execution_count": 23
  },
  {
   "metadata": {
    "ExecuteTime": {
     "end_time": "2024-04-06T08:41:28.553074Z",
     "start_time": "2024-04-06T08:41:21.577480Z"
    }
   },
   "cell_type": "code",
   "source": [
    "expression = input(\"연산식을 입력(예 3.2 + 4 * 1.5) : \")\n",
    "print(\"연산식:\", expression, '결과:', eval(expression))"
   ],
   "id": "4a9dcd894000b999",
   "outputs": [
    {
     "name": "stdout",
     "output_type": "stream",
     "text": [
      "연산식: 30 // 4 결과: 7\n"
     ]
    }
   ],
   "execution_count": 24
  },
  {
   "metadata": {},
   "cell_type": "markdown",
   "source": [
    "## 프로젝트 Lab 2 코딩\n",
    "### 20244159 박효진"
   ],
   "id": "bbd9a17cf9a664f4"
  },
  {
   "metadata": {},
   "cell_type": "markdown",
   "source": "",
   "id": "38aca9e400b0ab52"
  },
  {
   "metadata": {
    "ExecuteTime": {
     "end_time": "2024-04-06T08:41:41.242878Z",
     "start_time": "2024-04-06T08:41:28.553074Z"
    }
   },
   "cell_type": "code",
   "source": [
    "base = int(input(\"입력할 정수의 진수(base)는? : \"))\n",
    "invar = input(str(base) + '진수 정수 입력 :')\n",
    "\n",
    "data = int(invar, base)\n",
    "\n",
    "print('2진수:', bin(data))\n",
    "print('8진수:', oct(data))\n",
    "print('10진수:', data)\n",
    "print('16진수:', hex(data))"
   ],
   "id": "65c53c4d35c73040",
   "outputs": [
    {
     "name": "stdout",
     "output_type": "stream",
     "text": [
      "2진수: 0b11111\n",
      "8진수: 0o37\n",
      "10진수: 31\n",
      "16진수: 0x1f\n"
     ]
    }
   ],
   "execution_count": 25
  },
  {
   "metadata": {},
   "cell_type": "markdown",
   "source": [
    "## 도전! 프로그래밍 01 코딩\n",
    "### 20244159 박효진"
   ],
   "id": "b195952b7642af70"
  },
  {
   "metadata": {
    "ExecuteTime": {
     "end_time": "2024-04-06T08:41:54.917076Z",
     "start_time": "2024-04-06T08:41:41.242878Z"
    }
   },
   "cell_type": "code",
   "source": [
    "str1 = input(\"문자열 1:\")\n",
    "str2 = input(\"문자열 2:\")\n",
    "print(f'{str1} {str2}')"
   ],
   "id": "a47287ec2e505ca4",
   "outputs": [
    {
     "name": "stdout",
     "output_type": "stream",
     "text": [
      "python 언어\n"
     ]
    }
   ],
   "execution_count": 26
  },
  {
   "metadata": {},
   "cell_type": "markdown",
   "source": [
    "## 도전! 프로그래밍 02 코딩\n",
    "### 20244159 박효진"
   ],
   "id": "36994604386626b8"
  },
  {
   "metadata": {
    "ExecuteTime": {
     "end_time": "2024-04-06T08:42:00.123128Z",
     "start_time": "2024-04-06T08:41:54.917076Z"
    }
   },
   "cell_type": "code",
   "source": [
    "carSpeed = int(input(\"차의 속도를 입력(km) >> \"))\n",
    "print(f\"{carSpeed}(km)은 {carSpeed / 1.61} 마일(miles)이다.\")"
   ],
   "id": "4eb3de47ab93a798",
   "outputs": [
    {
     "name": "stdout",
     "output_type": "stream",
     "text": [
      "135(km)은 83.85093167701862 마일(miles)이다.\n"
     ]
    }
   ],
   "execution_count": 27
  },
  {
   "metadata": {},
   "cell_type": "markdown",
   "source": [
    "## 도전! 프로그래밍 03 코딩\n",
    "### 20244159 박효진"
   ],
   "id": "c74cd0f42866cf4c"
  },
  {
   "metadata": {
    "ExecuteTime": {
     "end_time": "2024-04-06T08:42:02.822238Z",
     "start_time": "2024-04-06T08:42:00.123128Z"
    }
   },
   "cell_type": "code",
   "source": [
    "saleCount = int(input(\"아메리카노 몇 개 주문하세요? \"))\n",
    "print(f\"총 가격은 {saleCount * 3500} 이다.\")"
   ],
   "id": "4b0a96be9a78522f",
   "outputs": [
    {
     "name": "stdout",
     "output_type": "stream",
     "text": [
      "총 가격은 24500 이다.\n"
     ]
    }
   ],
   "execution_count": 28
  },
  {
   "metadata": {},
   "cell_type": "markdown",
   "source": [
    "## 도전! 프로그래밍 04 코딩\n",
    "### 20244159 박효진"
   ],
   "id": "97f676b3222d279f"
  },
  {
   "metadata": {
    "ExecuteTime": {
     "end_time": "2024-04-06T08:42:02.827929Z",
     "start_time": "2024-04-06T08:42:02.822238Z"
    }
   },
   "cell_type": "code",
   "source": [
    "data1 = 40120\n",
    "data2 = 2 * 3.141592 * 6378.1\n",
    "\n",
    "print(\"알려진 지구 둘레: \" + str(data1))\n",
    "print(\"지구와 같은 원둘레: \" + str(data2))\n",
    "print(f\"차이: {data1 - data2}(km)\")"
   ],
   "id": "1af19db9da6f9c55",
   "outputs": [
    {
     "name": "stdout",
     "output_type": "stream",
     "text": [
      "알려진 지구 둘레: 40120\n",
      "지구와 같은 원둘레: 40074.77587040001\n",
      "차이: 45.22412959999201(km)\n"
     ]
    }
   ],
   "execution_count": 29
  },
  {
   "metadata": {},
   "cell_type": "markdown",
   "source": [
    "## 도전! 프로그래밍 05 코딩\n",
    "### 20244159 박효진"
   ],
   "id": "a046c695cbf2689e"
  },
  {
   "metadata": {
    "ExecuteTime": {
     "end_time": "2024-04-06T08:42:11.913223Z",
     "start_time": "2024-04-06T08:42:02.827929Z"
    }
   },
   "cell_type": "code",
   "source": [
    "inpData = int(input(\"온도 입력 >> \"))\n",
    "print(f\"정확 계산: 섭씨: {inpData}, 화씨: {inpData * 9/5 + 32}\")\n",
    "print(f\"약식 계산: 섭씨: {inpData}, 화씨: {inpData * 2 + 30}\")\n",
    "print(f\"차이: {(inpData * 9/5 + 32) - (inpData * 2 + 30)}\")"
   ],
   "id": "4442088232b7a389",
   "outputs": [
    {
     "name": "stdout",
     "output_type": "stream",
     "text": [
      "정확 계산: 섭씨: 38, 화씨: 100.4\n",
      "약식 계산: 섭씨: 38, 화씨: 106\n",
      "차이: -5.599999999999994\n"
     ]
    }
   ],
   "execution_count": 30
  },
  {
   "metadata": {},
   "cell_type": "markdown",
   "source": [
    "## 도전! 프로그래밍 06 코딩\n",
    "### 20244159 박효진"
   ],
   "id": "7073f91aa6a5bd1c"
  },
  {
   "metadata": {
    "ExecuteTime": {
     "end_time": "2024-04-06T08:42:19.245203Z",
     "start_time": "2024-04-06T08:42:11.913223Z"
    }
   },
   "cell_type": "code",
   "source": [
    "firstNum = int(input(\"Enter First Number: \"))\n",
    "secondNum = int(input(\"Enter Second Number: \"))\n",
    "\n",
    "print(f\"{firstNum} / {secondNum} ===> {firstNum / secondNum}\")\n",
    "print(f\"{firstNum} % {secondNum} ===> {firstNum % secondNum}\")\n",
    "print(f\"{firstNum} // {secondNum} ===> {firstNum // secondNum}\")\n",
    "print(f\"{firstNum} ** {secondNum} ===> {firstNum ** secondNum}\")"
   ],
   "id": "9032037e9e5b50c3",
   "outputs": [
    {
     "name": "stdout",
     "output_type": "stream",
     "text": [
      "12 / 5 ===> 2.4\n",
      "12 % 5 ===> 2\n",
      "12 // 5 ===> 2\n",
      "12 ** 5 ===> 248832\n"
     ]
    }
   ],
   "execution_count": 31
  },
  {
   "metadata": {},
   "cell_type": "markdown",
   "source": [
    "## 도전! 프로그래밍 07 코딩\n",
    "### 20244159 박효진"
   ],
   "id": "a9a4cbc87cec3348"
  },
  {
   "metadata": {
    "ExecuteTime": {
     "end_time": "2024-04-06T08:42:37.329346Z",
     "start_time": "2024-04-06T08:42:29.544248Z"
    }
   },
   "cell_type": "code",
   "source": [
    "num1 = float.fromhex(input('첫 번째 16진수 실수 입력 :'))\n",
    "num2 = float.fromhex(input('두 번째 16진수 실수 입력 :'))\n",
    "\n",
    "print(f\"실수1:{num1} 실수2:{num2}\")\n",
    "print(f\"합: {num1 + num2}\")\n",
    "print(f\"차: {num1 - num2}\")\n",
    "print(f\"곱하기: {num1 * num2}\")\n",
    "print(f\"나누기: {num1 / num2}\")"
   ],
   "id": "40a8a3da1c097366",
   "outputs": [
    {
     "name": "stdout",
     "output_type": "stream",
     "text": [
      "실수1:15.0 실수2:14.0625\n",
      "합: 29.0625\n",
      "차: 0.9375\n",
      "곱하기: 210.9375\n",
      "나누기: 1.0666666666666667\n"
     ]
    }
   ],
   "execution_count": 33
  },
  {
   "metadata": {},
   "cell_type": "markdown",
   "source": [
    "## 도전! 프로그래밍 08 코딩\n",
    "### 20244159 박효진"
   ],
   "id": "c463cb74d7470842"
  },
  {
   "metadata": {
    "ExecuteTime": {
     "end_time": "2024-04-06T08:42:45.043168Z",
     "start_time": "2024-04-06T08:42:41.146668Z"
    }
   },
   "cell_type": "code",
   "source": [
    "inpData = int(input(\"네 자릿수 정수 입력\"))\n",
    "print(str(inpData)[::-1])"
   ],
   "id": "42ad1818667ea3ea",
   "outputs": [
    {
     "name": "stdout",
     "output_type": "stream",
     "text": [
      "2345\n"
     ]
    }
   ],
   "execution_count": 34
  },
  {
   "metadata": {},
   "cell_type": "code",
   "source": "",
   "id": "513522f625ff8a78",
   "outputs": [],
   "execution_count": null
  }
 ],
 "metadata": {
  "kernelspec": {
   "display_name": "Python 3",
   "language": "python",
   "name": "python3"
  },
  "language_info": {
   "codemirror_mode": {
    "name": "ipython",
    "version": 2
   },
   "file_extension": ".py",
   "mimetype": "text/x-python",
   "name": "python",
   "nbconvert_exporter": "python",
   "pygments_lexer": "ipython2",
   "version": "2.7.6"
  }
 },
 "nbformat": 4,
 "nbformat_minor": 5
}
