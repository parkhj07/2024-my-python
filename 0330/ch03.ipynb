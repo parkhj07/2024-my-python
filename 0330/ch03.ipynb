{
 "cells": [
  {
   "cell_type": "raw",
   "id": "a4f05590",
   "metadata": {},
   "source": [
    "# 파이썬 설치 확인"
   ]
  },
  {
   "cell_type": "code",
   "execution_count": 1,
   "id": "b23c3710",
   "metadata": {},
   "outputs": [
    {
     "data": {
      "text/plain": [
       "'3.12.1 (tags/v3.12.1:2305ca5, Dec  7 2023, 22:03:25) [MSC v.1937 64 bit (AMD64)]'"
      ]
     },
     "execution_count": 1,
     "metadata": {},
     "output_type": "execute_result"
    }
   ],
   "source": [
    "import sys\n",
    "sys.version"
   ]
  },
  {
   "cell_type": "code",
   "execution_count": 2,
   "id": "1792a190",
   "metadata": {},
   "outputs": [
    {
     "data": {
      "text/plain": [
       "['c:\\\\Users\\\\109-1\\\\AppData\\\\Local\\\\Programs\\\\Python\\\\Python312',\n",
       " 'c:\\\\Users\\\\109-1\\\\AppData\\\\Local\\\\Programs\\\\Python\\\\Python312\\\\Lib\\\\site-packages']"
      ]
     },
     "execution_count": 2,
     "metadata": {},
     "output_type": "execute_result"
    }
   ],
   "source": [
    "import site\n",
    "site.getsitepackages()"
   ]
  },
  {
   "cell_type": "markdown",
   "id": "2e27b2ca",
   "metadata": {},
   "source": [
    "## 단원 03 코딩"
   ]
  },
  {
   "cell_type": "code",
   "execution_count": 3,
   "id": "75ad4745",
   "metadata": {},
   "outputs": [
    {
     "data": {
      "text/plain": [
       "(1.5, -1.5)"
      ]
     },
     "execution_count": 3,
     "metadata": {},
     "output_type": "execute_result"
    }
   ],
   "source": [
    "3/2, -3/2"
   ]
  },
  {
   "cell_type": "code",
   "execution_count": 4,
   "id": "ecb4f393",
   "metadata": {},
   "outputs": [
    {
     "data": {
      "text/plain": [
       "(1, -2)"
      ]
     },
     "execution_count": 4,
     "metadata": {},
     "output_type": "execute_result"
    }
   ],
   "source": [
    "3//2, -3//2"
   ]
  },
  {
   "cell_type": "code",
   "execution_count": 5,
   "id": "bac70a13",
   "metadata": {},
   "outputs": [
    {
     "name": "stdout",
     "output_type": "stream",
     "text": [
      "문자열 Hello python! 길이 13\n",
      "첫 문자 H H\n",
      "가운데 문자 p p\n",
      "마지막 문자 ! !\n"
     ]
    }
   ],
   "source": [
    "str = 'Hello python!'\n",
    "n = len(str)\n",
    "\n",
    "print(f\"문자열 {str} 길이 {n}\")\n",
    "print(f\"첫 문자 {str[0]} {str[-n]}\")\n",
    "print(f\"가운데 문자 {str[n//2]} {str[-n//2]}\")\n",
    "print(f\"마지막 문자 {str[n-1]} {str[-1]}\")"
   ]
  },
  {
   "cell_type": "code",
   "execution_count": 6,
   "id": "70662df8",
   "metadata": {},
   "outputs": [
    {
     "name": "stdout",
     "output_type": "stream",
     "text": [
      "12\n",
      "Monty Python Python\n",
      "Monty Python \n"
     ]
    }
   ],
   "source": [
    "str = \"Monty Python\"\n",
    "print(len(str))\n",
    "print(str[0:5], str[6:], str[6:12])\n",
    "print(str[-12:-7], str[-6:], str[-6:0])"
   ]
  },
  {
   "cell_type": "code",
   "execution_count": 7,
   "id": "227cd87c",
   "metadata": {},
   "outputs": [
    {
     "name": "stdout",
     "output_type": "stream",
     "text": [
      "일요일 기러기\n",
      "일요일 기러기\n",
      "일요일 기러기 일요일 기러기 일요일 기러기\n",
      "일일기기\n",
      "일 기\n",
      "기기일일\n",
      "기러기 일요일\n"
     ]
    }
   ],
   "source": [
    "str = \"일요일 기러기\"\n",
    "print(str[:3], str[4:])\n",
    "print(str[:-4], str[-3:])\n",
    "print(str[:], str[::], str[::1])\n",
    "print(str[::2])\n",
    "print(str[::3])\n",
    "print(str[::-2])\n",
    "print(str[::-1])"
   ]
  },
  {
   "cell_type": "code",
   "execution_count": 6,
   "id": "c8c29773",
   "metadata": {},
   "outputs": [
    {
     "name": "stdout",
     "output_type": "stream",
     "text": [
      "abcdefghijk\n",
      "abcdefghijk\n",
      "kjihgfedcba\n",
      "acegik\n",
      "kigeca\n"
     ]
    }
   ],
   "source": [
    "s = 'abcdefghijk'\n",
    "\n",
    "print(s[:])\n",
    "print(s[::])\n",
    "print(s[::-1])\n",
    "print(s[::2])\n",
    "print(s[::-2])"
   ]
  },
  {
   "cell_type": "code",
   "execution_count": null,
   "id": "e6dbb0ee",
   "metadata": {},
   "outputs": [],
   "source": []
  }
 ],
 "metadata": {
  "kernelspec": {
   "display_name": "Python 3 (ipykernel)",
   "language": "python",
   "name": "python3"
  },
  "language_info": {
   "codemirror_mode": {
    "name": "ipython",
    "version": 3
   },
   "file_extension": ".py",
   "mimetype": "text/x-python",
   "name": "python",
   "nbconvert_exporter": "python",
   "pygments_lexer": "ipython3",
   "version": "3.11.5"
  }
 },
 "nbformat": 4,
 "nbformat_minor": 5
}
