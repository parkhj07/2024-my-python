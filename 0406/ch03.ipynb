{
 "cells": [
  {
   "cell_type": "code",
   "id": "initial_id",
   "metadata": {
    "collapsed": true,
    "ExecuteTime": {
     "end_time": "2024-04-06T07:33:39.172024Z",
     "start_time": "2024-04-06T07:33:39.161115Z"
    }
   },
   "source": [
    "import site\n",
    "site.getsitepackages()"
   ],
   "outputs": [
    {
     "data": {
      "text/plain": [
       "['C:\\\\Users\\\\109-1\\\\anaconda3',\n",
       " 'C:\\\\Users\\\\109-1\\\\anaconda3\\\\Lib\\\\site-packages']"
      ]
     },
     "execution_count": 1,
     "metadata": {},
     "output_type": "execute_result"
    }
   ],
   "execution_count": 1
  },
  {
   "metadata": {
    "ExecuteTime": {
     "end_time": "2024-04-06T07:39:14.315541Z",
     "start_time": "2024-04-06T07:39:09.358632Z"
    }
   },
   "cell_type": "code",
   "source": [
    "value = input(\"실수(3자리.2자리로 345.78처럼)를 하나 입력하세요. >> \")\n",
    "num = value.replace('.', '')\n",
    "\n",
    "sum = 0\n",
    "sum += int(num[0])\n",
    "sum += int(num[1])\n",
    "sum += int(num[2])\n",
    "sum += int(num[3])\n",
    "sum += int(num[4])\n",
    "print(\"입력 값:\", value)\n",
    "print(\"모든 자리수 합:\", sum)"
   ],
   "id": "6fd4400fd9abf784",
   "outputs": [
    {
     "name": "stdout",
     "output_type": "stream",
     "text": [
      "입력 값: 123.45\n",
      "모든 자리수 합: 15\n"
     ]
    }
   ],
   "execution_count": 2
  },
  {
   "metadata": {},
   "cell_type": "markdown",
   "source": "## 3-5 코딩",
   "id": "b6fe784be2bb2f95"
  },
  {
   "metadata": {
    "ExecuteTime": {
     "end_time": "2024-04-06T07:44:51.950186Z",
     "start_time": "2024-04-06T07:44:48.558121Z"
    }
   },
   "cell_type": "code",
   "source": [
    "str = input(\"두 개의 단어를 빈 공간으로 구분하여 입력하세요. >>\")\n",
    "pos = str.find(' ')\n",
    "preWord = str[:pos]\n",
    "postWord = str[pos+1:]\n",
    "print(preWord, postWord)\n",
    "print(preWord[::-1], postWord[::-1])"
   ],
   "id": "cb74f6f4b154a71a",
   "outputs": [
    {
     "name": "stdout",
     "output_type": "stream",
     "text": [
      "파이 자바\n",
      "이파 바자\n"
     ]
    }
   ],
   "execution_count": 4
  },
  {
   "metadata": {},
   "cell_type": "markdown",
   "source": "# 다양한 문자열 생성 방법",
   "id": "f158de1ac71e3ebf"
  },
  {
   "metadata": {
    "ExecuteTime": {
     "end_time": "2024-04-06T08:01:45.757685Z",
     "start_time": "2024-04-06T08:01:45.748636Z"
    }
   },
   "cell_type": "code",
   "source": [
    "# 문자열 format 메소스\n",
    "a, b = 5, 8\n",
    "print('{0} + {1} = {2}'.format(a, b, a + b))\n",
    "print('{1} - {0} = {2}'.format(a, b, a - b))\n",
    "print('{} * {} = {}'.format(a, b, a * b))\n",
    "print('{} // {} = {}'.format(a, b, a // b))"
   ],
   "id": "6312582088186f05",
   "outputs": [
    {
     "data": {
      "text/plain": [
       "'5 + 8 = 13'"
      ]
     },
     "execution_count": 5,
     "metadata": {},
     "output_type": "execute_result"
    }
   ],
   "execution_count": 5
  },
  {
   "metadata": {
    "ExecuteTime": {
     "end_time": "2024-04-06T08:02:15.384825Z",
     "start_time": "2024-04-06T08:02:15.369407Z"
    }
   },
   "cell_type": "code",
   "source": [
    "# f-문자열\n",
    "a, b = 5, 8\n",
    "print(f'{a} + {b} = {a+b}')\n",
    "print(f'{a} - {b} = {a-b}')\n",
    "print(f'{a} * {b} = {a*b}')\n",
    "print(f'{a} / {b} = {a/b}')"
   ],
   "id": "598170a8fc4069c9",
   "outputs": [
    {
     "data": {
      "text/plain": [
       "'5 + 8 = 13'"
      ]
     },
     "execution_count": 6,
     "metadata": {},
     "output_type": "execute_result"
    }
   ],
   "execution_count": 6
  },
  {
   "metadata": {},
   "cell_type": "code",
   "outputs": [],
   "execution_count": null,
   "source": [
    "a, b = 5, 8\n",
    "print(\"%d + %d = %d\" % (a, b, a + b))"
   ],
   "id": "dda126678c172e91"
  },
  {
   "metadata": {},
   "cell_type": "markdown",
   "source": "## 3-8 코딩",
   "id": "3a62d23e9453e41"
  },
  {
   "metadata": {
    "ExecuteTime": {
     "end_time": "2024-04-06T09:05:04.728462Z",
     "start_time": "2024-04-06T09:05:00.322972Z"
    }
   },
   "cell_type": "code",
   "source": [
    "h, w = input(\"당신의 키(cm)와 몸무게(kg)는? >>\").split()\n",
    "\n",
    "height = float(h)\n",
    "weight = float(w)\n",
    "bmi = weight / (height / 100) ** 2\n",
    "\n",
    "# print(\"키:%6.1f(cm), 몸무게:%5.1f(kg), BMI:%5.1f\" % (height, weight, bmi))\n",
    "print(f\"키:{height:6.1f}(cm), 몸무게:{weight:5.1f}(kg), BMI:{bmi:5.1f}\")\n",
    "print(\"{} {}\".format('고도비만', 40 <= bmi))\n",
    "print(\"{} {}\".format('중등도비만', 35 <= bmi < 40))\n",
    "print(\"{} {}\".format('비만', 30 <= bmi < 35))\n",
    "print(\"{} {}\".format('과체중', 25 <= bmi < 30))\n",
    "print(\"{} {}\".format('정상', 18.5 <= bmi < 25))\n",
    "print(\"{} {}\".format('저체중', bmi <= 18.5))"
   ],
   "id": "fb5af2659e233455",
   "outputs": [
    {
     "name": "stdout",
     "output_type": "stream",
     "text": [
      "키: 179.0(cm), 몸무게: 55.0(kg), BMI: 17.2\n",
      "고도비만 False\n",
      "중등도비만 False\n",
      "비만 False\n",
      "과체중 False\n",
      "정상 False\n",
      "저체중 True\n"
     ]
    }
   ],
   "execution_count": 13
  },
  {
   "metadata": {},
   "cell_type": "markdown",
   "source": "## 3-10 코딩",
   "id": "302d8c58a7d31e31"
  },
  {
   "metadata": {
    "ExecuteTime": {
     "end_time": "2024-04-06T09:36:05.309188Z",
     "start_time": "2024-04-06T09:36:04.209141Z"
    }
   },
   "cell_type": "code",
   "source": [
    "inkey = input(\"배운 파이썬 키워드를 입력하세요 >> \")\n",
    "\n",
    "keywords = \"'False', 'True', 'and', 'in', 'not', 'or''\"\n",
    "\n",
    "print(f\"입력 단어 {inkey}, 키워드인가? {inkey in keywords}\")"
   ],
   "id": "397c87f940937952",
   "outputs": [
    {
     "name": "stdout",
     "output_type": "stream",
     "text": [
      "입력 단어 out, 키워드인가? False\n"
     ]
    }
   ],
   "execution_count": 16
  },
  {
   "metadata": {},
   "cell_type": "markdown",
   "source": "# 3-12 코딩  ",
   "id": "fdb17d219e0c7531"
  },
  {
   "metadata": {
    "ExecuteTime": {
     "end_time": "2024-04-06T09:40:55.882576Z",
     "start_time": "2024-04-06T09:40:50.926371Z"
    }
   },
   "cell_type": "code",
   "source": [
    "orgPwd = int(input('ID로 사용할 8자리의 정수를 입력하세요 >> '))\n",
    "keyMask = 27182818\n",
    "encPwd = orgPwd ^ keyMask\n",
    "\n",
    "print(f\"입력한 ID: {orgPwd}\")\n",
    "print(f\"암호화하여 저장된 ID: {encPwd}\")\n",
    "\n",
    "inPwd = int(input(\"로그인할 ID 입력하세요 >> \"))\n",
    "result = encPwd ^ keyMask\n",
    "print(f'로그인 성공: {inPwd == result}')"
   ],
   "id": "ecc40d2e86510659",
   "outputs": [
    {
     "name": "stdout",
     "output_type": "stream",
     "text": [
      "입력한 ID: 12345678\n",
      "암호화하여 저장된 ID: 19048364\n",
      "로그인 성공: True\n"
     ]
    }
   ],
   "execution_count": 19
  },
  {
   "metadata": {},
   "cell_type": "code",
   "outputs": [],
   "execution_count": null,
   "source": "",
   "id": "d3bec49c4890a88"
  }
 ],
 "metadata": {
  "kernelspec": {
   "display_name": "Python 3",
   "language": "python",
   "name": "python3"
  },
  "language_info": {
   "codemirror_mode": {
    "name": "ipython",
    "version": 2
   },
   "file_extension": ".py",
   "mimetype": "text/x-python",
   "name": "python",
   "nbconvert_exporter": "python",
   "pygments_lexer": "ipython2",
   "version": "2.7.6"
  }
 },
 "nbformat": 4,
 "nbformat_minor": 5
}
